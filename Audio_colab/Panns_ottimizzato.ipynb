{
  "nbformat": 4,
  "nbformat_minor": 0,
  "metadata": {
    "colab": {
      "provenance": [],
      "gpuType": "T4",
      "collapsed_sections": [
        "Ew5SRWlHxeU3",
        "YG8PVU_Ixngi"
      ]
    },
    "kernelspec": {
      "name": "python3",
      "display_name": "Python 3"
    },
    "language_info": {
      "name": "python"
    },
    "accelerator": "GPU"
  },
  "cells": [
    {
      "cell_type": "markdown",
      "source": [
        "# Collegamento Drive"
      ],
      "metadata": {
        "id": "Ew5SRWlHxeU3"
      }
    },
    {
      "cell_type": "code",
      "source": [
        "!df -h /content/drive"
      ],
      "metadata": {
        "colab": {
          "base_uri": "https://localhost:8080/"
        },
        "id": "KtTt37oNhyUH",
        "outputId": "81131231-d805-4751-ed75-2d2f538d5213"
      },
      "execution_count": 1,
      "outputs": [
        {
          "output_type": "stream",
          "name": "stdout",
          "text": [
            "df: /content/drive: No such file or directory\n"
          ]
        }
      ]
    },
    {
      "cell_type": "code",
      "execution_count": 2,
      "metadata": {
        "colab": {
          "base_uri": "https://localhost:8080/"
        },
        "id": "8QTAw6wTU0a8",
        "outputId": "d6b5ea94-4e23-4159-a50a-d953975c974c"
      },
      "outputs": [
        {
          "output_type": "stream",
          "name": "stdout",
          "text": [
            "Mounted at /content/drive\n",
            "'asmr EGG CRACKING sound.mp3'\n",
            "'Bird Flapping Wings Sound Effect.mp3'\n",
            "'Busy Street [Sound Effect].mp3'\n",
            " cat-purring-68797.mp3\n",
            " egg-crack5-104555.mp3\n",
            " egg-cracking-6844.mp3\n",
            "'Egg Shell Crack Sound Effect - Egg Cracking sound.mp3'\n",
            "'Heart Beat [SOUND EFFECT].mp3'\n",
            "'Hungry Cat Sound Effects - Hungry Cat Meowing Sound shorts.mp3'\n",
            "'Long Mud Pour Sound Effect.mp3'\n",
            "'Meow Sound Effect.mp3'\n",
            "' Royalty-Free Sounds.mp3'\n",
            " saved_model\n",
            "'Seagull - Sound Effect.mp3'\n",
            "'seagull sound.mp3'\n",
            "'Sea Waves - Sound Effect.mp3'\n",
            "'SonART Demo v1.wav'\n",
            "'SonART Demo v2.wav'\n",
            "'SonART Demo v3.wav'\n",
            "'SonART Demo v4.wav'\n",
            "'SonART Demo v5.wav'\n",
            "'SonART Demo v6.wav'\n",
            "'SonART Demo v7.wav'\n",
            "'SonART Demo v8.wav'\n",
            "'Sound effect - Campane - Bells.mp3'\n",
            " splash-6213.mp3\n"
          ]
        }
      ],
      "source": [
        "from google.colab import drive\n",
        "drive.mount(\"/content/drive\", force_remount=True)\n",
        "\n",
        "!ls '/content/drive/My Drive/SonART/Demo'"
      ]
    },
    {
      "cell_type": "markdown",
      "source": [
        "# IMPORT"
      ],
      "metadata": {
        "id": "YG8PVU_Ixngi"
      }
    },
    {
      "cell_type": "code",
      "source": [
        "!pip install torchlibrosa"
      ],
      "metadata": {
        "colab": {
          "base_uri": "https://localhost:8080/"
        },
        "id": "bXLnAiP2YZvx",
        "outputId": "41862e6e-5cae-4181-8e08-05c0d9f40194"
      },
      "execution_count": 3,
      "outputs": [
        {
          "output_type": "stream",
          "name": "stdout",
          "text": [
            "Collecting torchlibrosa\n",
            "  Downloading torchlibrosa-0.1.0-py3-none-any.whl.metadata (3.5 kB)\n",
            "Requirement already satisfied: numpy in /usr/local/lib/python3.11/dist-packages (from torchlibrosa) (2.0.2)\n",
            "Requirement already satisfied: librosa>=0.8.0 in /usr/local/lib/python3.11/dist-packages (from torchlibrosa) (0.11.0)\n",
            "Requirement already satisfied: audioread>=2.1.9 in /usr/local/lib/python3.11/dist-packages (from librosa>=0.8.0->torchlibrosa) (3.0.1)\n",
            "Requirement already satisfied: numba>=0.51.0 in /usr/local/lib/python3.11/dist-packages (from librosa>=0.8.0->torchlibrosa) (0.60.0)\n",
            "Requirement already satisfied: scipy>=1.6.0 in /usr/local/lib/python3.11/dist-packages (from librosa>=0.8.0->torchlibrosa) (1.14.1)\n",
            "Requirement already satisfied: scikit-learn>=1.1.0 in /usr/local/lib/python3.11/dist-packages (from librosa>=0.8.0->torchlibrosa) (1.6.1)\n",
            "Requirement already satisfied: joblib>=1.0 in /usr/local/lib/python3.11/dist-packages (from librosa>=0.8.0->torchlibrosa) (1.4.2)\n",
            "Requirement already satisfied: decorator>=4.3.0 in /usr/local/lib/python3.11/dist-packages (from librosa>=0.8.0->torchlibrosa) (4.4.2)\n",
            "Requirement already satisfied: soundfile>=0.12.1 in /usr/local/lib/python3.11/dist-packages (from librosa>=0.8.0->torchlibrosa) (0.13.1)\n",
            "Requirement already satisfied: pooch>=1.1 in /usr/local/lib/python3.11/dist-packages (from librosa>=0.8.0->torchlibrosa) (1.8.2)\n",
            "Requirement already satisfied: soxr>=0.3.2 in /usr/local/lib/python3.11/dist-packages (from librosa>=0.8.0->torchlibrosa) (0.5.0.post1)\n",
            "Requirement already satisfied: typing_extensions>=4.1.1 in /usr/local/lib/python3.11/dist-packages (from librosa>=0.8.0->torchlibrosa) (4.12.2)\n",
            "Requirement already satisfied: lazy_loader>=0.1 in /usr/local/lib/python3.11/dist-packages (from librosa>=0.8.0->torchlibrosa) (0.4)\n",
            "Requirement already satisfied: msgpack>=1.0 in /usr/local/lib/python3.11/dist-packages (from librosa>=0.8.0->torchlibrosa) (1.1.0)\n",
            "Requirement already satisfied: packaging in /usr/local/lib/python3.11/dist-packages (from lazy_loader>=0.1->librosa>=0.8.0->torchlibrosa) (24.2)\n",
            "Requirement already satisfied: llvmlite<0.44,>=0.43.0dev0 in /usr/local/lib/python3.11/dist-packages (from numba>=0.51.0->librosa>=0.8.0->torchlibrosa) (0.43.0)\n",
            "Requirement already satisfied: platformdirs>=2.5.0 in /usr/local/lib/python3.11/dist-packages (from pooch>=1.1->librosa>=0.8.0->torchlibrosa) (4.3.6)\n",
            "Requirement already satisfied: requests>=2.19.0 in /usr/local/lib/python3.11/dist-packages (from pooch>=1.1->librosa>=0.8.0->torchlibrosa) (2.32.3)\n",
            "Requirement already satisfied: threadpoolctl>=3.1.0 in /usr/local/lib/python3.11/dist-packages (from scikit-learn>=1.1.0->librosa>=0.8.0->torchlibrosa) (3.6.0)\n",
            "Requirement already satisfied: cffi>=1.0 in /usr/local/lib/python3.11/dist-packages (from soundfile>=0.12.1->librosa>=0.8.0->torchlibrosa) (1.17.1)\n",
            "Requirement already satisfied: pycparser in /usr/local/lib/python3.11/dist-packages (from cffi>=1.0->soundfile>=0.12.1->librosa>=0.8.0->torchlibrosa) (2.22)\n",
            "Requirement already satisfied: charset-normalizer<4,>=2 in /usr/local/lib/python3.11/dist-packages (from requests>=2.19.0->pooch>=1.1->librosa>=0.8.0->torchlibrosa) (3.4.1)\n",
            "Requirement already satisfied: idna<4,>=2.5 in /usr/local/lib/python3.11/dist-packages (from requests>=2.19.0->pooch>=1.1->librosa>=0.8.0->torchlibrosa) (3.10)\n",
            "Requirement already satisfied: urllib3<3,>=1.21.1 in /usr/local/lib/python3.11/dist-packages (from requests>=2.19.0->pooch>=1.1->librosa>=0.8.0->torchlibrosa) (2.3.0)\n",
            "Requirement already satisfied: certifi>=2017.4.17 in /usr/local/lib/python3.11/dist-packages (from requests>=2.19.0->pooch>=1.1->librosa>=0.8.0->torchlibrosa) (2025.1.31)\n",
            "Downloading torchlibrosa-0.1.0-py3-none-any.whl (11 kB)\n",
            "Installing collected packages: torchlibrosa\n",
            "Successfully installed torchlibrosa-0.1.0\n"
          ]
        }
      ]
    },
    {
      "cell_type": "code",
      "source": [
        "import os\n",
        "import sys\n",
        "import matplotlib.pyplot as plt\n",
        "import numpy as np\n",
        "import librosa\n",
        "import torch"
      ],
      "metadata": {
        "id": "GqfK1auFxm3T"
      },
      "execution_count": 4,
      "outputs": []
    },
    {
      "cell_type": "code",
      "source": [
        "path = \"/content/drive/MyDrive/SonART/Code/panns_inference\"\n",
        "if os.path.exists(path):\n",
        "    print(\"La cartella esiste!\")\n",
        "else:\n",
        "    print(\"Errore: La cartella non è stata trovata. Controlla il percorso.\")"
      ],
      "metadata": {
        "colab": {
          "base_uri": "https://localhost:8080/"
        },
        "id": "3E9hGJfVWSZk",
        "outputId": "577c6260-792f-4b13-af22-211aedc4fa30"
      },
      "execution_count": 5,
      "outputs": [
        {
          "output_type": "stream",
          "name": "stdout",
          "text": [
            "La cartella esiste!\n"
          ]
        }
      ]
    },
    {
      "cell_type": "code",
      "source": [
        "sys.path.append(\"/content/drive/MyDrive/SonART/Code/panns_inference\")"
      ],
      "metadata": {
        "id": "N-zbfzC0W9V4"
      },
      "execution_count": 6,
      "outputs": []
    },
    {
      "cell_type": "code",
      "source": [
        "from panns_inference import AudioTagging, SoundEventDetection, labels"
      ],
      "metadata": {
        "id": "TaPjPwnPzUUV"
      },
      "execution_count": 7,
      "outputs": []
    },
    {
      "cell_type": "markdown",
      "source": [
        "# CREAZIONE MODELLO E CARICAMENTO SUL DRIVE"
      ],
      "metadata": {
        "id": "NcVICy1NyNu2"
      }
    },
    {
      "cell_type": "code",
      "source": [
        "def print_audio_tagging_result(clipwise_output):\n",
        "    \"\"\"Visualization of audio tagging result.\n",
        "\n",
        "    Args:\n",
        "      clipwise_output: (classes_num,)\n",
        "    \"\"\"\n",
        "    sorted_indexes = np.argsort(clipwise_output)[::-1]\n",
        "\n",
        "    # Print audio tagging top probabilities\n",
        "    for k in range(10):\n",
        "        print('{}: {:.3f}'.format(np.array(labels)[sorted_indexes[k]],\n",
        "            clipwise_output[sorted_indexes[k]]))"
      ],
      "metadata": {
        "id": "YO1HO35qYhWs"
      },
      "execution_count": 8,
      "outputs": []
    },
    {
      "cell_type": "code",
      "source": [
        "def plot_sound_event_detection_result(framewise_output):\n",
        "    \"\"\"Visualization of sound event detection result.\n",
        "\n",
        "    Args:\n",
        "      framewise_output: (time_steps, classes_num)\n",
        "    \"\"\"\n",
        "    out_fig_path = 'results/sed_result.png'\n",
        "    os.makedirs(os.path.dirname(out_fig_path), exist_ok=True)\n",
        "\n",
        "    classwise_output = np.max(framewise_output, axis=0) # (classes_num,)\n",
        "\n",
        "    idxes = np.argsort(classwise_output)[::-1]\n",
        "    idxes = idxes[0:5]\n",
        "\n",
        "    ix_to_lb = {i : label for i, label in enumerate(labels)}\n",
        "    lines = []\n",
        "    for idx in idxes:\n",
        "        line, = plt.plot(framewise_output[:, idx], label=ix_to_lb[idx])\n",
        "        lines.append(line)\n",
        "\n",
        "    plt.legend(handles=lines)\n",
        "    plt.xlabel('Frames')\n",
        "    plt.ylabel('Probability')\n",
        "    plt.ylim(0, 1.)\n",
        "    plt.savefig(out_fig_path)\n",
        "    print('Save fig to {}'.format(out_fig_path))"
      ],
      "metadata": {
        "id": "f4rHfUuIYj0M"
      },
      "execution_count": 9,
      "outputs": []
    },
    {
      "cell_type": "code",
      "source": [
        "device = 'cuda' # 'cuda' | 'cpu'\n",
        "audio_path = \"/content/drive/My Drive/SonART/Demo/SonART Demo v8.wav\"\n",
        "(audio, _) = librosa.core.load(audio_path, sr=32000, mono=True)\n",
        "audio = audio[None, :]  # (batch_size, segment_samples)\n",
        "\n",
        "print('------ Audio tagging ------')\n",
        "at = AudioTagging(model=None, checkpoint_path=None, device=device)\n",
        "(clipwise_output, embedding) = at.inference(audio)\n",
        "\"\"\"clipwise_output: (batch_size, classes_num), embedding: (batch_size, embedding_size)\"\"\"\n",
        "\n",
        "print_audio_tagging_result(clipwise_output[0])\n",
        "\n",
        "print('------ Sound event detection ------')\n",
        "sed = SoundEventDetection(\n",
        "    checkpoint_path=None,\n",
        "    device=device,\n",
        "    interpolate_mode='nearest', # 'nearest'\n",
        ")\n",
        "framewise_output = sed.inference(audio)\n",
        "\"\"\"(batch_size, time_steps, classes_num)\"\"\"\n",
        "\n",
        "plot_sound_event_detection_result(framewise_output[0])"
      ],
      "metadata": {
        "colab": {
          "base_uri": "https://localhost:8080/",
          "height": 786
        },
        "id": "_thvXltaYmjJ",
        "outputId": "6db52eb6-54e5-4495-cfa5-b4e9b7393d06"
      },
      "execution_count": 10,
      "outputs": [
        {
          "output_type": "stream",
          "name": "stdout",
          "text": [
            "------ Audio tagging ------\n",
            "Checkpoint path: /content/drive/My Drive/SonART/saved_model/panns/Cnn14_mAP=0.431.pth\n",
            "✅ La cartella esiste già: /content/drive/My Drive/SonART/saved_model/panns\n",
            "✅ Il file esiste già, nessun download necessario.\n",
            "💾 Modello istanziato salvato su Drive: /content/drive/My Drive/SonART/saved_model/panns/panns_model.pth\n",
            "GPU number: 1\n",
            "Music: 0.378\n",
            "Bird: 0.153\n",
            "Duck: 0.131\n",
            "Animal: 0.089\n",
            "Goose: 0.083\n",
            "Honk: 0.074\n",
            "Bird vocalization, bird call, bird song: 0.065\n",
            "Quack: 0.045\n",
            "Outside, rural or natural: 0.043\n",
            "Fowl: 0.039\n",
            "------ Sound event detection ------\n",
            "Checkpoint path: /content/drive/My Drive/SonART/saved_model/panns/Cnn14_DecisionLevelMax.pth\n",
            "GPU number: 1\n",
            "Save fig to results/sed_result.png\n"
          ]
        },
        {
          "output_type": "display_data",
          "data": {
            "text/plain": [
              "<Figure size 640x480 with 1 Axes>"
            ],
            "image/png": "[encoded data removed]"
          },
          "metadata": {}
        }
      ]
    },
    {
      "cell_type": "markdown",
      "source": [
        "# RECUPERA MODELLO DAL DRIVE"
      ],
      "metadata": {
        "id": "Gis-BbR0yZdY"
      }
    },
    {
      "cell_type": "code",
      "source": [
        "# Percorso del modello su Drive\n",
        "checkpoint_path = \"/content/drive/My Drive/SonART/saved_model/panns/panns_model.pth\"\n",
        "\n",
        "# Carica il modello salvato\n",
        "model = torch.load(checkpoint_path, map_location=\"cuda\" if torch.cuda.is_available() else \"cpu\", weights_only=False)"
      ],
      "metadata": {
        "id": "7H3ichlIimZL"
      },
      "execution_count": 11,
      "outputs": []
    },
    {
      "cell_type": "markdown",
      "source": [
        "# Modello base ottimizzato"
      ],
      "metadata": {
        "id": "em53DQ2zyosv"
      }
    },
    {
      "cell_type": "code",
      "source": [
        "def best_tag(clipwise_output):\n",
        "    \"\"\"Visualization of audio tagging result.\n",
        "\n",
        "    Args:\n",
        "      clipwise_output: (classes_num,)\n",
        "    \"\"\"\n",
        "    sorted_indexes = np.argsort(clipwise_output)[::-1]\n",
        "\n",
        "    return sorted_indexes[0]"
      ],
      "metadata": {
        "id": "1WkZcFLLcI9G"
      },
      "execution_count": 12,
      "outputs": []
    },
    {
      "cell_type": "code",
      "source": [
        "audio_path = \"/content/drive/My Drive/SonART/Demo/SonART Demo v8.wav\"\n",
        "(audio, _) = librosa.core.load(audio_path, sr=32000, mono=True)"
      ],
      "metadata": {
        "id": "sQ9bEBlJcL9d"
      },
      "execution_count": 13,
      "outputs": []
    },
    {
      "cell_type": "code",
      "source": [
        "# **Specifica la durata dei segmenti in secondi**\n",
        "segment_duration = 3 # Durata del segmento in secondi (esempio: 2 secondi)\n",
        "hop_duration = 1   # Durata del salto tra segmenti in secondi (esempio: 1 secondo)\n",
        "\n",
        "# Calcolare la lunghezza di ogni segmento in campioni\n",
        "segment_length = int(segment_duration * 32000)\n",
        "hop_length = int(hop_duration * 32000)\n",
        "\n",
        "# Dividere il waveform in segmenti con il salto specificato\n",
        "segments = []\n",
        "for start in range(0, len(audio) - segment_length + 1, hop_length):\n",
        "    segment = audio[start:start + segment_length]\n",
        "    segments.append(segment)\n",
        "\n",
        "# Aggiungere l'ultimo segmento se non coperto dal ciclo (padding se necessario)\n",
        "if len(audio) % hop_length != 0:\n",
        "    last_segment = audio[-segment_length:]\n",
        "    segments.append(last_segment)\n",
        "\n",
        "# Trasformare i segmenti in un array numpy\n",
        "segments = np.stack(segments)\n",
        "\n",
        "# Mostrare dettagli\n",
        "print(f\"Numero di segmenti: {len(segments)}, Forma di ogni segmento: {segments[0].shape}\")"
      ],
      "metadata": {
        "colab": {
          "base_uri": "https://localhost:8080/"
        },
        "id": "elVf6JLccPqy",
        "outputId": "8da571e6-bdd0-4bfe-991b-26cec40b3910"
      },
      "execution_count": 14,
      "outputs": [
        {
          "output_type": "stream",
          "name": "stdout",
          "text": [
            "Numero di segmenti: 96, Forma di ogni segmento: (96000,)\n"
          ]
        }
      ]
    },
    {
      "cell_type": "code",
      "source": [
        "tag_list = []\n",
        "device = 'cuda' # 'cuda' | 'cpu'\n",
        "at = AudioTagging(model=model, checkpoint_path='/content/drive/My Drive/SonART/saved_model/panns/Cnn14_mAP=0.431.pth', device=device)"
      ],
      "metadata": {
        "colab": {
          "base_uri": "https://localhost:8080/"
        },
        "id": "NT-PO1YssNXD",
        "outputId": "3663f5aa-0a1c-4082-f186-45775bd03e0b"
      },
      "execution_count": 15,
      "outputs": [
        {
          "output_type": "stream",
          "name": "stdout",
          "text": [
            "Checkpoint path: /content/drive/My Drive/SonART/saved_model/panns/Cnn14_mAP=0.431.pth\n",
            "✅ La cartella esiste già: /content/drive/My Drive/SonART/saved_model/panns\n",
            "✅ Il file esiste già, nessun download necessario.\n",
            "Il modello esiste già!\n",
            "GPU number: 1\n"
          ]
        }
      ]
    },
    {
      "cell_type": "code",
      "source": [
        "for segment in segments:\n",
        "  segment = segment[None, :]  # (batch_size, segment_samples)\n",
        "\n",
        "  #at = AudioTagging(model=model, checkpoint_path='/content/drive/My Drive/SonART/saved_model/panns/Cnn14_mAP=0.431.pth', device=device)\n",
        "  (clipwise_output, embedding) = at.inference(segment)\n",
        "  \"\"\"clipwise_output: (batch_size, classes_num), embedding: (batch_size, embedding_size)\"\"\"\n",
        "\n",
        "  index = best_tag(clipwise_output[0])\n",
        "  predicted_class = np.array(labels)[index]\n",
        "  clipwise_output = clipwise_output[0]\n",
        "\n",
        "\n",
        "  print('{}: {:.3f}'.format(predicted_class,clipwise_output[index]))\n",
        "  tag_list.append(predicted_class)"
      ],
      "metadata": {
        "colab": {
          "base_uri": "https://localhost:8080/"
        },
        "id": "0ZydpTZScTBh",
        "outputId": "b7affaa9-3119-49d4-dc3d-8706aebd2b7d"
      },
      "execution_count": 16,
      "outputs": [
        {
          "output_type": "stream",
          "name": "stdout",
          "text": [
            "Waves, surf: 0.700\n",
            "Waves, surf: 0.720\n",
            "Waves, surf: 0.748\n",
            "Waves, surf: 0.748\n",
            "Waves, surf: 0.757\n",
            "Waves, surf: 0.678\n",
            "Waves, surf: 0.715\n",
            "Waves, surf: 0.635\n",
            "Waves, surf: 0.474\n",
            "Waves, surf: 0.704\n",
            "Waves, surf: 0.748\n",
            "Honk: 0.513\n",
            "Goose: 0.703\n",
            "Honk: 0.762\n",
            "Honk: 0.694\n",
            "Honk: 0.669\n",
            "Honk: 0.655\n",
            "Honk: 0.617\n",
            "Goose: 0.578\n",
            "Owl: 0.317\n",
            "Owl: 0.586\n",
            "Animal: 0.320\n",
            "Honk: 0.561\n",
            "Honk: 0.715\n",
            "Honk: 0.732\n",
            "Goose: 0.779\n",
            "Goose: 0.633\n",
            "Pour: 0.155\n",
            "Boat, Water vehicle: 0.212\n",
            "Music: 0.229\n",
            "Music: 0.190\n",
            "Music: 0.172\n",
            "Animal: 0.227\n",
            "Animal: 0.320\n",
            "Animal: 0.312\n",
            "Bird: 0.323\n",
            "Bird: 0.374\n",
            "Bird flight, flapping wings: 0.361\n",
            "Bird flight, flapping wings: 0.196\n",
            "Bird: 0.588\n",
            "Bird: 0.727\n",
            "Bird: 0.638\n",
            "Bird: 0.531\n",
            "Vehicle: 0.612\n",
            "Vehicle: 0.719\n",
            "Animal: 0.908\n",
            "Cat: 0.888\n",
            "Cat: 0.919\n",
            "Cat: 0.850\n",
            "Cat: 0.768\n",
            "Pulse: 0.512\n",
            "Pulse: 0.467\n",
            "Heart sounds, heartbeat: 0.390\n",
            "Waves, surf: 0.440\n",
            "Waves, surf: 0.703\n",
            "Waves, surf: 0.645\n",
            "Waves, surf: 0.571\n",
            "Waves, surf: 0.707\n",
            "Waves, surf: 0.557\n",
            "Waves, surf: 0.560\n",
            "Waves, surf: 0.302\n",
            "Music: 0.296\n",
            "Music: 0.258\n",
            "Purr: 0.647\n",
            "Purr: 0.568\n",
            "Purr: 0.788\n",
            "Purr: 0.762\n",
            "Purr: 0.396\n",
            "Crack: 0.338\n",
            "Coin (dropping): 0.234\n",
            "Coin (dropping): 0.287\n",
            "Fowl: 0.474\n",
            "Goose: 0.472\n",
            "Honk: 0.732\n",
            "Honk: 0.771\n",
            "Cat: 0.544\n",
            "Cat: 0.706\n",
            "Cat: 0.854\n",
            "Animal: 0.768\n",
            "Cat: 0.874\n",
            "Cat: 0.744\n",
            "Bird: 0.453\n",
            "Bird: 0.398\n",
            "Bird: 0.256\n",
            "Goose: 0.412\n",
            "Animal: 0.446\n",
            "Music: 0.324\n",
            "Church bell: 0.541\n",
            "Church bell: 0.695\n",
            "Church bell: 0.620\n",
            "Church bell: 0.548\n",
            "Music: 0.265\n",
            "Church bell: 0.475\n",
            "Church bell: 0.490\n",
            "Church bell: 0.604\n",
            "Church bell: 0.659\n"
          ]
        }
      ]
    },
    {
      "cell_type": "markdown",
      "source": [
        "# Versione DEMO ottimizzata"
      ],
      "metadata": {
        "id": "T4xwhQEMy1Ad"
      }
    },
    {
      "cell_type": "code",
      "source": [
        "# Variabile per tracciare la parola precedentemente stampata\n",
        "last_printed_word = None\n",
        "# Variabile per tracciare la parola precedente all'iterazione attuale\n",
        "previous_word = None\n",
        "\n",
        "tag_list = []\n",
        "\n",
        "for segment in segments:\n",
        "  segment = segment[None, :]  # (batch_size, segment_samples)\n",
        "\n",
        "  (clipwise_output, embedding) = at.inference(segment)\n",
        "  \"\"\"clipwise_output: (batch_size, classes_num), embedding: (batch_size, embedding_size)\"\"\"\n",
        "\n",
        "  index = best_tag(clipwise_output[0])\n",
        "  predicted_class = np.array(labels)[index]\n",
        "  clipwise_output = clipwise_output[0]\n",
        "\n",
        "  # Stampa solo se la parola si ripete almeno 2 volte di fila e non è la stessa della precedente\n",
        "  if predicted_class == previous_word:\n",
        "      if predicted_class != last_printed_word:\n",
        "          if(clipwise_output[index] >= 0.400):\n",
        "            print('{}: {:.3f}'.format(predicted_class,\n",
        "            clipwise_output[index]))\n",
        "            tag_list.append(predicted_class)\n",
        "            last_printed_word = predicted_class  # Aggiorna l'ultima parola stampata\n",
        "  else:\n",
        "      previous_word = predicted_class  # Aggiorna la parola precedente solo se non è la stessa\n"
      ],
      "metadata": {
        "colab": {
          "base_uri": "https://localhost:8080/"
        },
        "id": "SMVx6oO6nYuL",
        "outputId": "5de73880-f314-41a8-987e-f9e03cee9977"
      },
      "execution_count": 26,
      "outputs": [
        {
          "output_type": "stream",
          "name": "stdout",
          "text": [
            "Waves, surf: 0.720\n",
            "Honk: 0.694\n",
            "Owl: 0.586\n",
            "Honk: 0.715\n",
            "Goose: 0.633\n",
            "Bird: 0.727\n",
            "Vehicle: 0.719\n",
            "Cat: 0.919\n",
            "Pulse: 0.467\n",
            "Waves, surf: 0.703\n",
            "Purr: 0.568\n",
            "Honk: 0.771\n",
            "Cat: 0.706\n",
            "Church bell: 0.695\n"
          ]
        }
      ]
    }
  ]
}